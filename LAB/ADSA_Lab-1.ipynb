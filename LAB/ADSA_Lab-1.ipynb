{
 "cells": [
  {
   "cell_type": "markdown",
   "id": "2b946645",
   "metadata": {},
   "source": [
    "NAME : CHITTIMALLA PUJITHA\n",
    "\n",
    "DATE : 17 OCTOBER 2025    M.TECH (CSE)\n",
    "\n",
    "HTNO : 2503B05118\n",
    "\n",
    "ADSA LAB 1\n",
    "\n",
    "IMPLEMENT A SINGLY LINKED LIST TO MANAGE PATIENT DETAILS(NAME,AGE,ID). PERFORM INSERTION , DELETION OPERATIONS."
   ]
  },
  {
   "cell_type": "code",
   "execution_count": 2,
   "id": "fca0f27b",
   "metadata": {},
   "outputs": [
    {
     "name": "stdout",
     "output_type": "stream",
     "text": [
      "Inserted Name: Rani, Age:56, Pateint:1\n",
      "Inserted Name: Raja, Age:60, Pateint:2\n",
      "Inserted Name: Puji, Age:55, Pateint:3\n",
      "Inserted Name: Kittu, Age:30, Pateint:4\n",
      "Patients list:\n",
      "Name:Rani, Age:56, P_ID:1\n",
      "Name:Raja, Age:60, P_ID:2\n",
      "Name:Puji, Age:55, P_ID:3\n",
      "Name:Kittu, Age:30, P_ID:4\n",
      "Delete Patient:1\n",
      "Patients list:\n",
      "Name:Raja, Age:60, P_ID:2\n",
      "Name:Puji, Age:55, P_ID:3\n",
      "Name:Kittu, Age:30, P_ID:4\n"
     ]
    }
   ],
   "source": [
    "class node:\n",
    "  def __init__(self, name, age, p_id):\n",
    "    self.name=name\n",
    "    self.age=age\n",
    "    self.p_id=p_id\n",
    "    self.next=None\n",
    "\n",
    "class PatientList:\n",
    "  def __init__(self):\n",
    "    self.head=None\n",
    "\n",
    "  def insert_pat(self, name, age, p_id):\n",
    "    new_node=node(name, age, p_id)\n",
    "    if not self.head:\n",
    "      self.head=new_node\n",
    "    else:\n",
    "      current = self.head\n",
    "      while current.next:\n",
    "        current = current.next\n",
    "      current.next=new_node\n",
    "    print(f\"Inserted Name: {name}, Age:{age}, Pateint:{p_id}\")\n",
    "\n",
    "  def delete_pat(self, p_id):\n",
    "    current=self.head\n",
    "    prev=None\n",
    "    while current:\n",
    "      if current.p_id==p_id:\n",
    "        if prev:\n",
    "          prev.next=current.next\n",
    "        else:\n",
    "          self.head=current.next\n",
    "        print(f\"Delete Patient:{p_id}\")\n",
    "        return\n",
    "      prev = current\n",
    "      current = current.next\n",
    "    print(f\"Pateint with {p_id} not found\")\n",
    "\n",
    "  def display_pat(self):\n",
    "    current=self.head\n",
    "    if not current:\n",
    "      print(\"No Patients\")\n",
    "      return\n",
    "    print(\"Patients list:\")\n",
    "    while current:\n",
    "      print(f\"Name:{current.name}, Age:{current.age}, P_ID:{current.p_id}\")\n",
    "      current=current.next\n",
    "\n",
    "plist=PatientList()\n",
    "plist.insert_pat(\"Rani\",56,1)\n",
    "plist.insert_pat(\"Raja\",60,2)\n",
    "plist.insert_pat(\"Puji\",55,3)\n",
    "plist.insert_pat(\"Kittu\",30,4)\n",
    "plist.display_pat()\n",
    "plist.delete_pat(1)\n",
    "plist.display_pat()"
   ]
  },
  {
   "cell_type": "code",
   "execution_count": null,
   "id": "663c9d09",
   "metadata": {},
   "outputs": [],
   "source": []
  }
 ],
 "metadata": {
  "kernelspec": {
   "display_name": "Python 3 (ipykernel)",
   "language": "python",
   "name": "python3"
  },
  "language_info": {
   "codemirror_mode": {
    "name": "ipython",
    "version": 3
   },
   "file_extension": ".py",
   "mimetype": "text/x-python",
   "name": "python",
   "nbconvert_exporter": "python",
   "pygments_lexer": "ipython3",
   "version": "3.10.9"
  }
 },
 "nbformat": 4,
 "nbformat_minor": 5
}
