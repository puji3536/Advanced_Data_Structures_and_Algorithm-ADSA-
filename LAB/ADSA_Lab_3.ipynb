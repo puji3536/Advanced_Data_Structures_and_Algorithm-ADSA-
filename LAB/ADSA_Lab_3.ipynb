{
  "nbformat": 4,
  "nbformat_minor": 0,
  "metadata": {
    "colab": {
      "provenance": []
    },
    "kernelspec": {
      "name": "python3",
      "display_name": "Python 3"
    },
    "language_info": {
      "name": "python"
    }
  },
  "cells": [
    {
      "cell_type": "markdown",
      "source": [
        "Date: 31/10/2025\n",
        "\n",
        "Lab - 3\n",
        "\n",
        "Name: Chittimalla Pujitha\n",
        "\n",
        "HTNO: 2503B05118\n",
        "\n",
        "Mtech 1st year"
      ],
      "metadata": {
        "id": "hhpqoUgRqrDI"
      }
    },
    {
      "cell_type": "code",
      "execution_count": 1,
      "metadata": {
        "colab": {
          "base_uri": "https://localhost:8080/"
        },
        "id": "st07zZzmozxL",
        "outputId": "780bd616-d8f5-41f5-8b6f-58cffe1e985d"
      },
      "outputs": [
        {
          "output_type": "stream",
          "name": "stdout",
          "text": [
            "Action performed: Advanced\n",
            "Action performed: Data\n",
            "Action performed: Structures\n",
            "Undo Stack: ['Advanced', 'Data', 'Structures']\n",
            "Redo Stack: []\n",
            "\n",
            "Undo: Structures\n",
            "Undo: Data\n",
            "Undo Stack: ['Advanced']\n",
            "Redo Stack: ['Structures', 'Data']\n",
            "\n",
            "Redo: Data\n",
            "Undo Stack: ['Advanced', 'Data']\n",
            "Redo Stack: ['Structures']\n",
            "\n"
          ]
        }
      ],
      "source": [
        "class UndoRedoSystem:\n",
        "    def __init__(self):\n",
        "        self.undo_stack = []\n",
        "        self.redo_stack = []\n",
        "\n",
        "    def perform_action(self, action):\n",
        "        self.undo_stack.append(action)\n",
        "        self.redo_stack.clear()\n",
        "        print(\"Action performed:\", action)\n",
        "\n",
        "    def undo(self):\n",
        "        if not self.undo_stack:\n",
        "            print(\"Nothing to undo.\")\n",
        "            return\n",
        "        action = self.undo_stack.pop()\n",
        "        self.redo_stack.append(action)\n",
        "        print(\"Undo:\", action)\n",
        "\n",
        "    def redo(self):\n",
        "        \"\"\"Redo the last undone action.\"\"\"\n",
        "        if not self.redo_stack:\n",
        "            print(\"Nothing to redo.\")\n",
        "            return\n",
        "        action = self.redo_stack.pop()\n",
        "        self.undo_stack.append(action)\n",
        "        print(\"Redo:\", action)\n",
        "\n",
        "    def display(self):\n",
        "        \"\"\"Display current stacks.\"\"\"\n",
        "        print(\"Undo Stack:\", self.undo_stack)\n",
        "        print(\"Redo Stack:\", self.redo_stack)\n",
        "        print()\n",
        "\n",
        "\n",
        "# --- Example Usage ---\n",
        "system = UndoRedoSystem()\n",
        "\n",
        "system.perform_action(\"Advanced\")\n",
        "system.perform_action(\"Data\")\n",
        "system.perform_action(\"Structures\")\n",
        "system.display()\n",
        "\n",
        "system.undo()\n",
        "system.undo()\n",
        "system.display()\n",
        "\n",
        "system.redo()\n",
        "system.display()"
      ]
    }
  ]
}