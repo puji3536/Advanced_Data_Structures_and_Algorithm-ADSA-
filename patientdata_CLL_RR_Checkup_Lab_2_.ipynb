{
  "nbformat": 4,
  "nbformat_minor": 0,
  "metadata": {
    "colab": {
      "provenance": [],
      "authorship_tag": "ABX9TyOcEw144KnqwvV/X+iuI+PN",
      "include_colab_link": true
    },
    "kernelspec": {
      "name": "python3",
      "display_name": "Python 3"
    },
    "language_info": {
      "name": "python"
    }
  },
  "cells": [
    {
      "cell_type": "markdown",
      "metadata": {
        "id": "view-in-github",
        "colab_type": "text"
      },
      "source": [
        "<a href=\"https://colab.research.google.com/github/puji3536/Advanced_Data_Structures_and_Algorithm-ADSA-/blob/main/patientdata_CLL_RR_Checkup_Lab_2_.ipynb\" target=\"_parent\"><img src=\"https://colab.research.google.com/assets/colab-badge.svg\" alt=\"Open In Colab\"/></a>"
      ]
    },
    {
      "cell_type": "markdown",
      "source": [
        "Name : Chittimalla Pujitha\n",
        "\n",
        "HTNO: 2503B05118\n",
        "\n",
        "MTECH - 1st year\n"
      ],
      "metadata": {
        "id": "qLGOtfpCM_e_"
      }
    },
    {
      "cell_type": "markdown",
      "source": [
        "# Lab - 2 Convert the patient list to a circular linked list for Round - Robin Check-up System. Implement Insertion and Deletion."
      ],
      "metadata": {
        "id": "mLPzyHfMlk-L"
      }
    },
    {
      "cell_type": "code",
      "source": [
        "# Node class representing a patient\n",
        "class PatientNode:\n",
        "    def __init__(self, name, age, patient_id):\n",
        "        self.name = name\n",
        "        self.age = age\n",
        "        self.patient_id = patient_id\n",
        "        self.next = None\n",
        "\n",
        "\n",
        "# Circular linked list for managing patients\n",
        "class CircularPatientList:\n",
        "    def __init__(self):\n",
        "        self.head = None\n",
        "\n",
        "    # Insert a new patient\n",
        "    def insert_patient(self, name, age, patient_id):\n",
        "        new_patient = PatientNode(name, age, patient_id)\n",
        "        if not self.head:\n",
        "            self.head = new_patient\n",
        "            new_patient.next = self.head\n",
        "        else:\n",
        "            current = self.head\n",
        "            while current.next != self.head:\n",
        "                current = current.next\n",
        "            current.next = new_patient\n",
        "            new_patient.next = self.head\n",
        "        print(f\"Patient '{name}' (ID: {patient_id}) added successfully.\")\n",
        "\n",
        "    # Display all patients\n",
        "    def print_patients(self):\n",
        "        if not self.head:\n",
        "            print(\"No patients in the list.\")\n",
        "            return\n",
        "        print(\"\\nCurrent Patient List (Round-Robin Order):\")\n",
        "        current = self.head\n",
        "        while True:\n",
        "            print(f\"Name: {current.name}, Age: {current.age}, ID: {current.patient_id}\")\n",
        "            current = current.next\n",
        "            if current == self.head:\n",
        "                break\n",
        "        print()\n",
        "\n",
        "    # Search for a patient by ID\n",
        "    def search_patient(self, patient_id):\n",
        "        if not self.head:\n",
        "            print(\"No patients in the list.\")\n",
        "            return\n",
        "        current = self.head\n",
        "        while True:\n",
        "            if current.patient_id == patient_id:\n",
        "                print(f\"Patient Found - Name: {current.name}, Age: {current.age}, ID: {current.patient_id}\")\n",
        "                return\n",
        "            current = current.next\n",
        "            if current == self.head:\n",
        "                print(f\"Patient with ID '{patient_id}' not found.\")\n",
        "                return\n",
        "\n",
        "    # Delete a patient by ID\n",
        "    def delete_patient(self, patient_id):\n",
        "        if not self.head:\n",
        "            print(\"No patients in the list to delete.\")\n",
        "            return\n",
        "\n",
        "        current = self.head\n",
        "        prev = None\n",
        "\n",
        "        if current.patient_id == patient_id:\n",
        "            if current.next == self.head:\n",
        "                self.head = None\n",
        "            else:\n",
        "                while current.next != self.head:\n",
        "                    current = current.next\n",
        "                current.next = self.head.next\n",
        "                self.head = self.head.next\n",
        "            print(f\"Patient with ID '{patient_id}' deleted successfully.\")\n",
        "            return\n",
        "\n",
        "        prev = self.head\n",
        "        current = self.head.next\n",
        "        while current != self.head:\n",
        "            if current.patient_id == patient_id:\n",
        "                prev.next = current.next\n",
        "                print(f\"Patient with ID '{patient_id}' deleted successfully.\")\n",
        "                return\n",
        "            prev = current\n",
        "            current = current.next\n",
        "\n",
        "        print(f\"Patient with ID '{patient_id}' not found.\")\n",
        "\n",
        "\n",
        "# Main program execution\n",
        "if __name__ == \"__main__\":\n",
        "    patient_list = CircularPatientList()\n",
        "    patient_list.insert_patient(\"John\", 35, \"12345\")\n",
        "    patient_list.insert_patient(\"Jane\", 28, \"67890\")\n",
        "    patient_list.insert_patient(\"Johnson\", 42, \"24680\")\n",
        "\n",
        "    patient_list.print_patients()\n",
        "\n",
        "    patient_list.search_patient(\"12345\")\n",
        "    patient_list.search_patient(\"98765\")"
      ],
      "metadata": {
        "colab": {
          "base_uri": "https://localhost:8080/"
        },
        "id": "91RKJNzxnTG7",
        "outputId": "3f2d33ad-8510-4d35-e2d5-55abce2c4e83"
      },
      "execution_count": 1,
      "outputs": [
        {
          "output_type": "stream",
          "name": "stdout",
          "text": [
            "Patient 'John' (ID: 12345) added successfully.\n",
            "Patient 'Jane' (ID: 67890) added successfully.\n",
            "Patient 'Johnson' (ID: 24680) added successfully.\n",
            "\n",
            "Current Patient List (Round-Robin Order):\n",
            "Name: John, Age: 35, ID: 12345\n",
            "Name: Jane, Age: 28, ID: 67890\n",
            "Name: Johnson, Age: 42, ID: 24680\n",
            "\n",
            "Patient Found - Name: John, Age: 35, ID: 12345\n",
            "Patient with ID '98765' not found.\n"
          ]
        }
      ]
    }
  ]
}